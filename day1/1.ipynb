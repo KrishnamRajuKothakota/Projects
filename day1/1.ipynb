{
 "cells": [
  {
   "cell_type": "markdown",
   "id": "020cad5c",
   "metadata": {},
   "source": [
    "What is Python?"
   ]
  },
  {
   "cell_type": "markdown",
   "id": "b88a85a4",
   "metadata": {},
   "source": [
    "Python is a high-level, interpreted, general-purpose programming language. It was created by Guido van Rossum, and released in 1991."
   ]
  },
  {
   "cell_type": "markdown",
   "id": "d958ea5c",
   "metadata": {},
   "source": [
    "1. **High-Level Language (Dynamically Typed)** - Variable types are determined at runtime, not in advance - Example: "
   ]
  },
  {
   "cell_type": "code",
   "execution_count": null,
   "id": "d77b89ed",
   "metadata": {},
   "outputs": [],
   "source": [
    "fruit = \"apple\"  # Python determines this is a string at runtime \n",
    "print(fruit) "
   ]
  },
  {
   "cell_type": "markdown",
   "id": "59d4f4d8",
   "metadata": {},
   "source": [
    "2. **Interpreted Language** - Code is parsed and executed line by line - (Technically also compiles to bytecode behind the scenes) \n",
    "3. **General-Purpose Language** - Works across many domains (web development, data science, automation, etc.) - Extensive libraries \n",
    "like pandas, flask, numpy, etc. "
   ]
  },
  {
   "cell_type": "markdown",
   "id": "674ca0cd",
   "metadata": {},
   "source": [
    "Why Python?\n",
    "\n",
    "Key features:"
   ]
  },
  {
   "cell_type": "markdown",
   "id": "f5d0c80f",
   "metadata": {},
   "source": [
    "1. Easy to Learn and Use\n",
    "Python has a simple and clean syntax, which makes it easy to read and write, especially for beginners.\n",
    "\n",
    "2. Interpreted Language\n",
    "Python code is executed line by line, which helps with debugging and rapid development.\n",
    "\n",
    "3. Dynamically Typed\n",
    "You don’t need to declare variable types explicitly; Python figures it out at runtime.\n",
    "\n",
    "4. High-Level Language\n",
    "You don’t have to worry about low-level details like memory management.\n",
    "\n",
    "5. Extensive Standard Library\n",
    "Python comes with a rich set of modules and libraries for various tasks like file handling, web development, data analysis, and more.(math, os, re, collections, http.client etc..)\n",
    "\n",
    "6. Cross-Platform\n",
    "Python runs on multiple operating systems, including Windows, macOS, and Linux.\n",
    "\n",
    "7. Object-Oriented\n",
    "Supports classes and objects, enabling OOP principles like inheritance, polymorphism, encapsulation, and abstraction.\n",
    "\n",
    "8. Open Source\n",
    "Python is free to use and distribute, with a large and active community contributing to its development.\n",
    "\n",
    "9. Embeddable and Extensible\n",
    "Python can be embedded within C/C++ programs and can call libraries written in other languages.\n",
    "\n",
    "10. Large Ecosystem\n",
    "Thousands of third-party libraries and frameworks (e.g., Django for web, Pandas for data analysis) extend Python’s capabilities.\n",
    "\n",
    "11. Support for Multiple Programming Paradigms\n",
    "Besides OOP, Python supports procedural and functional programming styles."
   ]
  },
  {
   "cell_type": "markdown",
   "id": "85dfcab3",
   "metadata": {},
   "source": [
    "Used for:"
   ]
  },
  {
   "cell_type": "markdown",
   "id": "4f931479",
   "metadata": {},
   "source": [
    "python can do:\n",
    "Web Development — Building websites and web applications (using frameworks like Django, Flask).\n",
    "\n",
    "Data Science and Machine Learning — Analyzing data, building models, and AI development (using libraries like Pandas, NumPy, Scikit-learn, TensorFlow).\n",
    "\n",
    "Automation and Scripting — Automating repetitive tasks and writing scripts for system administration.\n",
    "\n",
    "Software Development — Creating desktop applications and software tools.\n",
    "\n",
    "Game Development — Building simple games or prototypes (with libraries like Pygame).\n",
    "\n",
    "Scientific Computing — Performing complex mathematical and scientific calculations.\n",
    "\n",
    "system scripting - writing scripts that automate tasks related to the operating system and its environment"
   ]
  },
  {
   "cell_type": "markdown",
   "id": "489eb7fb",
   "metadata": {},
   "source": [
    "c# vs python"
   ]
  },
  {
   "cell_type": "code",
   "execution_count": null,
   "id": "0dbc6011",
   "metadata": {},
   "outputs": [],
   "source": [
    "| Aspect                      | C#                                                                  | Python                                                     |\n",
    "| --------------------------- | ------------------------------------------------------------------- | ---------------------------------------------------------- |\n",
    "| **Type System**             | Statically typed (types checked at compile time)                    | Dynamically typed (types checked at runtime)               |\n",
    "| **Syntax**                  | More verbose, similar to Java/C++                                   | Concise, easy-to-read, uses indentation instead of braces  |\n",
    "| **Performance**             | Generally faster due to compilation to bytecode and JIT compilation | Slower, interpreted (though can be optimized with tools)   |\n",
    "| **Platform**                | Primarily Windows/.NET, but now cross-platform with .NET Core       | Cross-platform (Windows, Mac, Linux)                       |\n",
    "| **Use Cases**               | Enterprise apps, games (Unity), desktop apps, web apps (ASP.NET)    | Web development, scripting, data science, AI, automation   |\n",
    "| **Development Environment** | Visual Studio, strong IDE support                                   | Multiple IDEs/editors (PyCharm, VS Code, Jupyter)          |\n",
    "| **Memory Management**       | Managed with Garbage Collection                                     | Managed with Garbage Collection                            |\n",
    "| **Community & Libraries**   | Strong support for Windows apps, gaming, enterprise                 | Huge ecosystem for data science, machine learning, web dev |\n",
    "| **Learning Curve**          | Moderate, more rules and stricter syntax                            | Easier for beginners due to simplicity                     |\n"
   ]
  },
  {
   "cell_type": "markdown",
   "id": "030d08e5",
   "metadata": {},
   "source": [
    "Installation"
   ]
  },
  {
   "cell_type": "markdown",
   "id": "7cca72fe",
   "metadata": {},
   "source": [
    "check if python already installed in your system\n",
    "goto command prompt and type:  python --version\n",
    "if not installed, goto the official website: https://www.python.org/downloads/  choose your operating system, hit download and install. Follow the instructions on screen."
   ]
  },
  {
   "cell_type": "markdown",
   "id": "afe27f28",
   "metadata": {},
   "source": [
    "Print Function and Comments"
   ]
  },
  {
   "cell_type": "code",
   "execution_count": null,
   "id": "bf7464d0",
   "metadata": {},
   "outputs": [],
   "source": [
    "print(\"Hello, People!\")  # Basic print statement. (file saved with .py extension)\n",
    "print(33)           # Printing numbers \n",
    "print(\"Multiple\", \"items\", 123)  # Printing multiple items "
   ]
  },
  {
   "cell_type": "code",
   "execution_count": null,
   "id": "921c7a70",
   "metadata": {},
   "outputs": [],
   "source": [
    "# This is a single-line comment \n",
    "\"\"\" \n",
    "This is a  \n",
    "multi-line comment \n",
    "(or docstring) \n",
    "\"\"\" "
   ]
  },
  {
   "cell_type": "markdown",
   "id": "7c03aa44",
   "metadata": {},
   "source": [
    "Variables"
   ]
  },
  {
   "cell_type": "code",
   "execution_count": null,
   "id": "1829dafb",
   "metadata": {},
   "outputs": [],
   "source": [
    "#Case-Sensitive\n",
    "#Variable Naming Convention: Use snake_case for variable names. ex: snake_case\n",
    "a = 10\n",
    "A = 20 #this A doesn't override above a\n",
    "print(f\"a = {a}, A = {A}\")"
   ]
  },
  {
   "cell_type": "code",
   "execution_count": null,
   "id": "589c043f",
   "metadata": {},
   "outputs": [],
   "source": [
    "a,b,c = 0, 1, 2\n",
    "print(a,b,c)"
   ]
  },
  {
   "cell_type": "code",
   "execution_count": null,
   "id": "fd2aebe8",
   "metadata": {},
   "outputs": [],
   "source": [
    "a, b = 1, 2\n",
    "print(f\"before swapping: a = {a}, b = {b}\")\n",
    "a, b = b, a\n",
    "print(f\"after swapping: a = {a}, b = {b}\")"
   ]
  },
  {
   "cell_type": "markdown",
   "id": "0123a6eb",
   "metadata": {},
   "source": [
    "Basic Data Types"
   ]
  },
  {
   "cell_type": "code",
   "execution_count": null,
   "id": "6738bfd5",
   "metadata": {},
   "outputs": [],
   "source": [
    "x = 10           # Integer \n",
    "name = \"Ram\"   # String \n",
    "price = 19.99    # Float \n",
    "is_active = True # Boolean\n",
    "complexnum = 1+2j #complex : combination of real + imaginary numbers"
   ]
  },
  {
   "cell_type": "code",
   "execution_count": null,
   "id": "ac492ddf",
   "metadata": {},
   "outputs": [],
   "source": [
    "#Dynamic Typing \n",
    "x = 10      # Initially an integer \n",
    "x = \"10\"    # Now a string \n",
    "x = 3.14    # Now a float "
   ]
  },
  {
   "cell_type": "markdown",
   "id": "bae243a1",
   "metadata": {},
   "source": [
    "Checking Variable Types"
   ]
  },
  {
   "cell_type": "code",
   "execution_count": null,
   "id": "723c6fbf",
   "metadata": {},
   "outputs": [],
   "source": [
    "x = 10 \n",
    "print(type(x))              #<class 'int'> \n",
    "name = \"Ram\" \n",
    "print(type(name))           #<class 'str'> \n",
    "price = 19.99 \n",
    "print(type(price))          #<class 'float'>\n",
    "is_active = True \n",
    "print(type(is_active))      #<class 'bool'>\n",
    "complexnum = 1+2j\n",
    "print(type(complexnum))     #<class 'complex'>"
   ]
  },
  {
   "cell_type": "markdown",
   "id": "766e8885",
   "metadata": {},
   "source": [
    "Type Conversion "
   ]
  },
  {
   "cell_type": "markdown",
   "id": "d6cde1c6",
   "metadata": {},
   "source": [
    "The process of changing the data type of a value or variable from one type to another. "
   ]
  },
  {
   "cell_type": "code",
   "execution_count": null,
   "id": "7a6f3ffa",
   "metadata": {},
   "outputs": [],
   "source": [
    "#Common Type Conversions \n",
    "# Number to String \n",
    "num = 123 \n",
    "num_to_str = str(num) \n",
    "print(type(num_to_str))  # <class 'str'> \n",
    "\n",
    "# String to Integer \n",
    "str_val = \"456\" \n",
    "str_to_int = int(str_val) \n",
    "print(type(str_to_int))  # <class 'int'> \n",
    "\n",
    "# String to Float \n",
    "str_val2 = \"3.14\" \n",
    "\n",
    "str_to_float = float(str_val2) \n",
    "\n",
    "# Integer to Float \n",
    "int_val = 10 \n",
    "int_to_float = float(int_val) \n",
    "\n",
    "# Float to Integer \n",
    "float_val = 9.99 \n",
    "float_to_int = int(float_val)  # Note: truncates decimal part \n",
    "\n",
    "# String to Boolean \n",
    "str_val3 = \"True\" \n",
    "str_to_bool =  str(str_val3)\n",
    "print(type(str_to_bool))\n",
    "\n",
    "# Boolean to String \n",
    "bool_val = True \n",
    "bool_to_str = str(bool_val) \n",
    "\n",
    "# Integer to Boolean \n",
    "int_val2 = 0 \n",
    "int_to_bool = bool(int_val2)  # False for 0, True for non-zero \n",
    "\n",
    "# Boolean to Integer \n",
    "bool_val2 = False \n",
    "bool_to_int = int(bool_val2)  # 0 for False, 1 for True \n",
    "\n",
    "#**Quick Conversion Examples \n",
    "print(str(123))      \n",
    "print(int(\"456\"))    \n",
    "print(float(\"3.14\"))\n",
    "print(bool(\"\"))      \n",
    "print(bool(\"Hello\"))\n"
   ]
  },
  {
   "cell_type": "markdown",
   "id": "0a731c57",
   "metadata": {},
   "source": [
    "Boolean Truthiness"
   ]
  },
  {
   "cell_type": "markdown",
   "id": "67f86fbe",
   "metadata": {},
   "source": [
    "0, \"\" (empty string), None, False are False \n",
    "Everything else is True"
   ]
  },
  {
   "cell_type": "code",
   "execution_count": null,
   "id": "19de34f4",
   "metadata": {},
   "outputs": [],
   "source": [
    "print(bool(0))\n",
    "print(bool(\"\"))\n",
    "print(bool(None))\n",
    "print(bool(False))\n",
    "print(bool())"
   ]
  },
  {
   "cell_type": "code",
   "execution_count": null,
   "id": "9dd34ba4",
   "metadata": {},
   "outputs": [],
   "source": [
    "print(bool(\"0\"))\n",
    "print(bool(\" \"))\n",
    "print(bool(\"None\"))\n",
    "print(bool(\"False\"))\n",
    "print(bool(-1))\n",
    "print(bool(True))\n",
    "print(bool(5.54))\n",
    "print(bool(3+4j))"
   ]
  },
  {
   "cell_type": "markdown",
   "id": "06dadf19",
   "metadata": {},
   "source": [
    "Floating Point Precision"
   ]
  },
  {
   "cell_type": "code",
   "execution_count": null,
   "id": "896a166d",
   "metadata": {},
   "outputs": [],
   "source": [
    "#The Precision Problem \n",
    "print(0.1 + 0.1 == 0.2)\n",
    "#print(0.1 + 0.2 == 0.3)\n",
    "#print(0.1 + 0.2)"
   ]
  },
  {
   "cell_type": "code",
   "execution_count": null,
   "id": "89fa2cd3",
   "metadata": {},
   "outputs": [],
   "source": [
    "#Solutions for Precision Control \n",
    "# Using round() \n",
    "print(round(0.1 + 0.2, 2))  # 0.3 \n",
    "\n",
    "# Using format() \n",
    "print(format(0.1 + 0.2, '.2f'))  # 0.30 \n",
    "\n",
    "# Using f-string formatting \n",
    "print(f\"{0.1 + 0.2:.2f}\")  # 0.30"
   ]
  },
  {
   "cell_type": "markdown",
   "id": "523408e9",
   "metadata": {},
   "source": [
    "Strings"
   ]
  },
  {
   "cell_type": "markdown",
   "id": "95bedfba",
   "metadata": {},
   "source": [
    "A string is a sequence of characters enclosed in single (' ') or double (\" \") quotes."
   ]
  },
  {
   "cell_type": "code",
   "execution_count": null,
   "id": "915297ab",
   "metadata": {},
   "outputs": [],
   "source": [
    "str_double = \"string in double quotes\" \n",
    "str_single = 'string in single quotes' \n",
    "print(str_double)\n",
    "print(str_single)\n",
    "\n",
    "#There is no such thing like character\n",
    "# char = 'a'\n",
    "# print(type(char))"
   ]
  },
  {
   "cell_type": "markdown",
   "id": "7c932047",
   "metadata": {},
   "source": [
    "String Operations "
   ]
  },
  {
   "cell_type": "code",
   "execution_count": null,
   "id": "73fdb38f",
   "metadata": {},
   "outputs": [],
   "source": [
    "#Concatenation\n",
    "print(str_double + \" \" + str_single)\n",
    "\n",
    "#cannot concatenate str and int\n",
    "#print(str_double+1) \n",
    "#print(str_double-1) \n",
    "#print(str_double/1) \n",
    "\n",
    "#but can multiply\n",
    "#Repetition\n",
    "# string1 = \"hi\" \n",
    "# print(string1*3)"
   ]
  },
  {
   "cell_type": "code",
   "execution_count": null,
   "id": "b8a10020",
   "metadata": {},
   "outputs": [],
   "source": [
    "#Indexing\n",
    "s = \"Python\"\n",
    "\n",
    "print(s[0])   \n",
    "print(s[1])  \n",
    "print(s[-1])  \n",
    "print(s[-2])  \n",
    "\n",
    "#strings are immutable. so, cannot change after defined.\n",
    "#s[0] = 'J'"
   ]
  },
  {
   "cell_type": "code",
   "execution_count": null,
   "id": "d446465b",
   "metadata": {},
   "outputs": [],
   "source": [
    "#Slicing: [start:end:step] \n",
    "text = \"123456789\" \n",
    "print(text[0:2])    \n",
    "print(text[2:5])    \n",
    "print(text[::2]) \n",
    "\n",
    "print(text[-1])\n",
    "print(text[::-1])"
   ]
  },
  {
   "cell_type": "code",
   "execution_count": null,
   "id": "d72d816f",
   "metadata": {},
   "outputs": [],
   "source": [
    "#Length\n",
    "print(len(text)) "
   ]
  },
  {
   "cell_type": "code",
   "execution_count": null,
   "id": "f9206976",
   "metadata": {},
   "outputs": [],
   "source": [
    "#Membership\n",
    "print(\"hi\" in text)\n",
    "print(\"123\" in text) \n",
    "print(\"java\" not in text)"
   ]
  },
  {
   "cell_type": "code",
   "execution_count": null,
   "id": "af43f168",
   "metadata": {},
   "outputs": [],
   "source": [
    "#Formatted Strings (f-strings)\n",
    "name = \"Janaki\" \n",
    "print(f\"Hello, {name}\")\n",
    "\n",
    "# name = input(\"enter name: \")\n",
    "# print(f\"hi {name}!\")"
   ]
  },
  {
   "cell_type": "markdown",
   "id": "fb1fe853",
   "metadata": {},
   "source": [
    "String Methods "
   ]
  },
  {
   "cell_type": "code",
   "execution_count": null,
   "id": "dfa3b2b9",
   "metadata": {},
   "outputs": [],
   "source": [
    "s = \"  Example, string  \" \n",
    "# Basic Methods \n",
    "print(s.lower())         \n",
    "print(s.upper()) \n",
    "print(s.title())         \n",
    "print(s.capitalize())    \n",
    "print(s.swapcase())      \n",
    "\n",
    "# Whitespace and Padding \n",
    "print(s.strip())         \n",
    "print(s.lstrip())        \n",
    "print(s.rstrip())\n",
    "\n",
    "#Searching and Finding \n",
    "print(s.startswith(\"  Ex\"))    \n",
    "print(s.endswith(\"g  \"))       \n",
    "print(s.find(\"string\"))        \n",
    "print(s.index(\"string\"))  \n",
    "\n",
    "# Counting and Checking \n",
    "print(s.count(\"e\"))            \n",
    "print(s.isalnum())             \n",
    "print(\"abc123\".isalnum())      \n",
    "print(\"Example\".isalpha())     \n",
    "print(\"123\".isdigit()) \n",
    "\n",
    "#Replacing and Splitting\n",
    "print(s.replace(\"string\", \"text\"))  # '  Example, text  ' \n",
    "print(s.split(\",\")) \n",
    "\n",
    "# Joining strings \n",
    "words = ['Example', 'string'] \n",
    "print(\" \".join(words)) "
   ]
  },
  {
   "cell_type": "markdown",
   "id": "d18c3abc",
   "metadata": {},
   "source": [
    "User Input "
   ]
  },
  {
   "cell_type": "code",
   "execution_count": null,
   "id": "15b91891",
   "metadata": {},
   "outputs": [],
   "source": [
    "name = input(\"Enter your name: \") \n",
    "print(name) "
   ]
  },
  {
   "cell_type": "code",
   "execution_count": null,
   "id": "963a9e51",
   "metadata": {},
   "outputs": [],
   "source": [
    "# Converting input to numbers \n",
    "num1 = int(input(\"Enter a number: \"))\n",
    "print(num1) \n",
    "# Float input \n",
    "price = float(input(\"Enter price: \")) \n",
    "print(price) "
   ]
  },
  {
   "cell_type": "markdown",
   "id": "04d786a8",
   "metadata": {},
   "source": [
    "Operators"
   ]
  },
  {
   "cell_type": "markdown",
   "id": "e69baf2f",
   "metadata": {},
   "source": [
    "Operators are special symbols or keywords that perform operations on values or \n",
    "variables. \n",
    "\n",
    "Types: \n",
    " Arithmetic: + - * / // % ** \n",
    " Comparison: == != > < >= <= \n",
    " Assignment: = += -= *= /= //= %= **= \n",
    " Logical: and or not \n",
    " Bitwise: & | ^ ~ << >> \n",
    " Membership: in, not in \n",
    " Identity: is, is not"
   ]
  },
  {
   "cell_type": "code",
   "execution_count": null,
   "id": "5aec77e7",
   "metadata": {},
   "outputs": [],
   "source": [
    "#Assignment Operator \n",
    "x = 5 \n",
    "print(x) "
   ]
  },
  {
   "cell_type": "code",
   "execution_count": null,
   "id": "384696c5",
   "metadata": {},
   "outputs": [],
   "source": [
    "#Arithmetic Operators \n",
    "a = 10 \n",
    "b = 3 \n",
    "print(a + b)  \n",
    "print(a - b)  \n",
    "print(a * b) \n",
    "print(a / b)  \n",
    "print(a // b) \n",
    "print(a % b)  \n",
    "print(a ** b)  "
   ]
  },
  {
   "cell_type": "markdown",
   "id": "6dd05ae9",
   "metadata": {},
   "source": [
    "Comparison Operators \n",
    "Operators that compare two values and return a Boolean result (True or False). \n",
    "Used to check relationships between values."
   ]
  },
  {
   "cell_type": "code",
   "execution_count": null,
   "id": "2694b215",
   "metadata": {},
   "outputs": [],
   "source": [
    "a = 10 \n",
    "b = 3 \n",
    "print(a == b)   \n",
    "print(a != b)   \n",
    "print(a > b)    \n",
    "print(a < b)  \n",
    "print(a >= b)  \n",
    "print(a <= b)  "
   ]
  },
  {
   "cell_type": "markdown",
   "id": "0dd35c8e",
   "metadata": {},
   "source": [
    "Compound Assignment Operators \n",
    "Operators that perform an operation and assignment in one step. They \n",
    "combine an arithmetic operation with assignment to modify a variable's value. "
   ]
  },
  {
   "cell_type": "code",
   "execution_count": null,
   "id": "8d227fd5",
   "metadata": {},
   "outputs": [],
   "source": [
    "x = 10 \n",
    "x += 5    \n",
    "x -= 3    \n",
    "x *= 2    \n",
    "x /= 4 "
   ]
  },
  {
   "cell_type": "markdown",
   "id": "65fe29ee",
   "metadata": {},
   "source": [
    "Logical Operators \n",
    "Operators used to combine conditional statements and evaluate Boolean \n",
    "logic. They work with truth values."
   ]
  },
  {
   "cell_type": "code",
   "execution_count": null,
   "id": "ed9f4ab1",
   "metadata": {},
   "outputs": [],
   "source": [
    "a = True \n",
    "b = False \n",
    "print(a and b) \n",
    "print(a or b)  \n",
    "print(not a)     \n",
    "print(not b)  \n",
    "\n",
    "# With comparisons \n",
    "x = 10 \n",
    "y = 5 \n",
    "print(x > 5 and y < 10)\n",
    "print(x < 5 or y < 10)"
   ]
  },
  {
   "cell_type": "markdown",
   "id": "47058560",
   "metadata": {},
   "source": [
    "Bitwise Operators \n",
    "Bitwise operators work on binary representations of numbers and perform \n",
    "operations bit by bit. "
   ]
  },
  {
   "cell_type": "code",
   "execution_count": null,
   "id": "b2cf6b02",
   "metadata": {},
   "outputs": [],
   "source": [
    "a = 5   \n",
    "b = 3   \n",
    "print(a & b)    \n",
    "print(a | b)    \n",
    "print(a ^ b)    \n",
    "print(~a)    \n",
    "print(a << 1)\n",
    "print(a >> 1) "
   ]
  },
  {
   "cell_type": "markdown",
   "id": "a9da8ad6",
   "metadata": {},
   "source": [
    "Membership Operators \n",
    "Operators that test whether a value or variable is found in a sequence (like \n",
    "strings, lists, tuples, or dictionaries)"
   ]
  },
  {
   "cell_type": "code",
   "execution_count": null,
   "id": "a63636cb",
   "metadata": {},
   "outputs": [],
   "source": [
    "print('a' in 'apple')        \n",
    "print('b' in 'apple')        \n",
    "print('x' not in 'text')"
   ]
  },
  {
   "cell_type": "markdown",
   "id": "a686f83a",
   "metadata": {},
   "source": [
    "Identity Operators\n",
    "Operators that compare the memory locations of two objects to check if they \n",
    "are the same object, not just equal in value. "
   ]
  },
  {
   "cell_type": "code",
   "execution_count": null,
   "id": "6aa490b6",
   "metadata": {},
   "outputs": [],
   "source": [
    "a = 100 \n",
    "b = 100 \n",
    "print(a is b) \n",
    "c = 1000 \n",
    "d = 1000 \n",
    "print(c is d)       \n",
    "print(c == d)   "
   ]
  },
  {
   "cell_type": "markdown",
   "id": "daf83586",
   "metadata": {},
   "source": [
    "Control Flow"
   ]
  },
  {
   "cell_type": "markdown",
   "id": "825fe020",
   "metadata": {},
   "source": [
    "Conditional Statements \n",
    "Allow the program to take different paths based on conditions. "
   ]
  },
  {
   "cell_type": "code",
   "execution_count": null,
   "id": "fa764b00",
   "metadata": {},
   "outputs": [],
   "source": [
    "# Simple if: \n",
    "x = 10 \n",
    "if x > 5: \n",
    "    print(\"x is bigger than 5\")"
   ]
  },
  {
   "cell_type": "code",
   "execution_count": null,
   "id": "613e5b7c",
   "metadata": {},
   "outputs": [],
   "source": [
    "# if-else: \n",
    "if x > 5: \n",
    "    print(\"x is bigger than 5\") \n",
    "else: \n",
    "    print(\"x is smaller than 5\") "
   ]
  },
  {
   "cell_type": "code",
   "execution_count": null,
   "id": "12c395a3",
   "metadata": {},
   "outputs": [],
   "source": [
    "# if-elif-else: \n",
    "x = 10 \n",
    "y = 10 \n",
    "if x > y: \n",
    "    print(\"x is greater\") \n",
    "elif x < y: \n",
    "    print(\"x is smaller\") \n",
    "else: \n",
    "    print(\"both are equal\")"
   ]
  },
  {
   "cell_type": "code",
   "execution_count": null,
   "id": "abda3be2",
   "metadata": {},
   "outputs": [],
   "source": [
    "# Ternary Operator: \n",
    "x = 1 \n",
    "result = \"Yes\" if x > 0 else \"No\" \n",
    "print(result)"
   ]
  },
  {
   "cell_type": "markdown",
   "id": "2ef87e44",
   "metadata": {},
   "source": [
    "Loops \n",
    "Loops allow repeating a block of code multiple times."
   ]
  },
  {
   "cell_type": "markdown",
   "id": "f5d43d96",
   "metadata": {},
   "source": [
    "For Loop \n",
    "Used to iterate over a sequence (list, tuple, string, or range). "
   ]
  },
  {
   "cell_type": "code",
   "execution_count": null,
   "id": "2801fd9c",
   "metadata": {},
   "outputs": [],
   "source": [
    "# Range-based: \n",
    "for num in range(3): \n",
    "    print(\"Iteration\", num) "
   ]
  },
  {
   "cell_type": "code",
   "execution_count": null,
   "id": "ba52ca40",
   "metadata": {},
   "outputs": [],
   "source": [
    "# List iteration: \n",
    "fruits = [\"apple\", \"banana\", \"cherry\"] \n",
    "for fruit in fruits: \n",
    "    print(fruit) "
   ]
  },
  {
   "cell_type": "markdown",
   "id": "953f17f2",
   "metadata": {},
   "source": [
    "While Loop \n",
    "Repeats as long as a condition is true. "
   ]
  },
  {
   "cell_type": "code",
   "execution_count": null,
   "id": "b0eb68be",
   "metadata": {},
   "outputs": [],
   "source": [
    "count = 0 \n",
    "while count < 3: \n",
    "    print(\"Count is\", count) \n",
    "count += 1 "
   ]
  },
  {
   "cell_type": "markdown",
   "id": "cffe8018",
   "metadata": {},
   "source": [
    "Loop Control Statements"
   ]
  },
  {
   "cell_type": "code",
   "execution_count": null,
   "id": "4b27a903",
   "metadata": {},
   "outputs": [],
   "source": [
    "# break: Exits the loop immediately \n",
    "for num in range(5): \n",
    "    if num == 3: \n",
    "        break \n",
    "print(num) "
   ]
  },
  {
   "cell_type": "code",
   "execution_count": null,
   "id": "ebc6c61b",
   "metadata": {},
   "outputs": [],
   "source": [
    "# continue: Skips the current iteration \n",
    "for num in range(5): \n",
    "    if num == 2: \n",
    "        continue     \n",
    "print(num) "
   ]
  },
  {
   "cell_type": "code",
   "execution_count": null,
   "id": "333105a9",
   "metadata": {},
   "outputs": [],
   "source": [
    "# pass: Placeholder that does nothing \n",
    "for num in range(3): \n",
    "    pass "
   ]
  },
  {
   "cell_type": "code",
   "execution_count": null,
   "id": "15facd6f",
   "metadata": {},
   "outputs": [],
   "source": [
    "# Match-Case  \n",
    "command = \"start\" \n",
    "match command: \n",
    "    case \"start\": \n",
    "        print(\"Starting...\") \n",
    "    case \"stop\": \n",
    "        print(\"Stopping...\") \n",
    "    case _: \n",
    "        print(\"Unknown command\") "
   ]
  },
  {
   "cell_type": "code",
   "execution_count": null,
   "id": "ee3a7549",
   "metadata": {},
   "outputs": [],
   "source": [
    "# Loop Else Clause\n",
    "for number in range(5): \n",
    "    print(number) \n",
    "else: \n",
    "    print(\"Loop finished without break.\") "
   ]
  },
  {
   "cell_type": "code",
   "execution_count": null,
   "id": "591b856c",
   "metadata": {},
   "outputs": [],
   "source": [
    "# While loop with else \n",
    "count = 0 \n",
    "while count < 5: \n",
    "    print(count) \n",
    "    count += 1 \n",
    "else: \n",
    "    print(\"While loop completed normally.\") "
   ]
  }
 ],
 "metadata": {
  "kernelspec": {
   "display_name": "Python 3",
   "language": "python",
   "name": "python3"
  },
  "language_info": {
   "codemirror_mode": {
    "name": "ipython",
    "version": 3
   },
   "file_extension": ".py",
   "mimetype": "text/x-python",
   "name": "python",
   "nbconvert_exporter": "python",
   "pygments_lexer": "ipython3",
   "version": "3.11.9"
  }
 },
 "nbformat": 4,
 "nbformat_minor": 5
}
